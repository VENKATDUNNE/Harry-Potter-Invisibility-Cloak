{
 "cells": [
  {
   "cell_type": "markdown",
   "source": [
    "## Harry Potter’s Invisible Cloak"
   ],
   "metadata": {}
  },
  {
   "cell_type": "code",
   "execution_count": 1,
   "source": [
    "## How it works\r\n",
    "#1. Importing needed libraries and generate the output video\r\n",
    "\r\n",
    "#2. Recording and caching the background for each frame.\r\n",
    "\r\n",
    "#3. detecting the red portion in each frame\r\n",
    "\r\n",
    "#4. Replacing the red portion with a mask image in each frame\r\n",
    "\r\n",
    "#5. Producing the surprising output"
   ],
   "outputs": [],
   "metadata": {}
  },
  {
   "cell_type": "code",
   "execution_count": 2,
   "source": [
    "#Importing libraries\r\n",
    "import numpy as np\r\n",
    "!pip install opencv-python\r\n",
    "import cv2\r\n",
    "import time"
   ],
   "outputs": [
    {
     "output_type": "stream",
     "name": "stdout",
     "text": [
      "Requirement already satisfied: opencv-python in c:\\users\\uma\\anaconda3\\lib\\site-packages (4.5.3.56)\n",
      "Requirement already satisfied: numpy>=1.17.3 in c:\\users\\uma\\anaconda3\\lib\\site-packages (from opencv-python) (1.20.1)\n"
     ]
    }
   ],
   "metadata": {}
  },
  {
   "cell_type": "code",
   "execution_count": null,
   "source": [
    "#Recording and caching the background for each frame.\r\n",
    "\r\n",
    "\r\n",
    "cap=cv2.VideoCapture(0)#Read from the web cam\r\n",
    "\r\n",
    "time.sleep(3) #for the system to sleep for 3 second before the webcam starts\r\n",
    "for i in range(30):\r\n",
    "    retval,back=cap.read()\r\n",
    "back=np.flip(back,axis=1)\r\n",
    "cap=cv2.VideoCapture(0)  \r\n",
    "\r\n",
    "\r\n",
    "\r\n",
    "## detecting the red portion In each frame\r\n",
    "\r\n",
    "\r\n",
    "while (cap.isOpened()):  ##Read every Frame from the webcam, until the camera is open \r\n",
    "    ret,img=cap.read()\r\n",
    "    if ret:\r\n",
    "        img=np.flip(img,axis=1)\r\n",
    "        \r\n",
    "        ##convert the color space from BGR to HSV\r\n",
    "        hsv=cv2.cvtColor(img,cv2.COLOR_BGR2HSV)\r\n",
    "        \r\n",
    "        ##Generat masks to detect red color\r\n",
    "        lower_red = np.array([0,120,70])\r\n",
    "        upper_red = np.array([10,255,255])\r\n",
    "        mask1 = cv2.inRange(hsv,lower_red,upper_red)\r\n",
    "        \r\n",
    "        lower_red = np.array([170,120,70])\r\n",
    "        upper_red = np.array([180,255,255])\r\n",
    "        mask2 = cv2.inRange(hsv,lower_red,upper_red)\r\n",
    "        mask1+=mask2\r\n",
    "        \r\n",
    "        ###Replacing the red portion with a mask image in each frame\r\n",
    "\r\n",
    "        mask = cv2.morphologyEx(mask1, cv2.MORPH_OPEN, np.ones((5,5),np.uint8))\r\n",
    "        img[np.where(mask==255)]=back[np.where(mask==255)]\r\n",
    "        \r\n",
    "         #Final output\r\n",
    "        cv2.imshow(\"Harry Potter's invisible secret revealed\",img)\r\n",
    "    key = cv2.waitKey(1)\r\n",
    "    if key==ord(\"q\"):\r\n",
    "        break\r\n",
    "cap.release()\r\n",
    "cv2.destroyAllWindows()"
   ],
   "outputs": [],
   "metadata": {}
  }
 ],
 "metadata": {
  "kernelspec": {
   "name": "python3",
   "display_name": "Python 3.8.8 64-bit ('base': conda)"
  },
  "language_info": {
   "codemirror_mode": {
    "name": "ipython",
    "version": 3
   },
   "file_extension": ".py",
   "mimetype": "text/x-python",
   "name": "python",
   "nbconvert_exporter": "python",
   "pygments_lexer": "ipython3",
   "version": "3.8.8"
  },
  "interpreter": {
   "hash": "704db241039fea5fc55dbf3d8fd9b74ac8b45171c777f4752e28e2e21ececcff"
  }
 },
 "nbformat": 4,
 "nbformat_minor": 4
}